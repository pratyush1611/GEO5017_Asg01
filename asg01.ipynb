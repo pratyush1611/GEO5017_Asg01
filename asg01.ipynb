{
 "cells": [
  {
   "cell_type": "markdown",
   "metadata": {},
   "source": [
    "# About\n",
    "Implement clustering algorithms\n",
    "1. K-Means\n",
    "1. Heirarchical clustering\n",
    "1. DBSCAN\n",
    "\n",
    "## The Team\n",
    "| Name| Student ID|\n",
    "|------------|---------------|\n",
    "|Cynthia Cai | 5625483 |\n",
    "|Pratyush Kumar | 5359252|\n"
   ]
  },
  {
   "cell_type": "markdown",
   "metadata": {},
   "source": [
    "# Imports\n",
    "\n",
    "// add the imports to the cell below"
   ]
  },
  {
   "cell_type": "code",
   "execution_count": 20,
   "metadata": {},
   "outputs": [],
   "source": [
    "import numpy as np \n",
    "import pandas as pd\n",
    "import glob\n"
   ]
  },
  {
   "cell_type": "markdown",
   "metadata": {},
   "source": [
    "# Reading the dataset\n",
    "\n",
    "\n",
    "From the readme for the xyz files, we know that:\n",
    "\n",
    "Ground truth labels:\n",
    "|File range|Label|\n",
    "|--|--|\n",
    "|    000 - 099: |building|\n",
    "|    100 - 199: |car|\n",
    "|    200 - 299: |fence|\n",
    "|    300 - 399: |pole|\n",
    "|    400 - 499: |tree|\n",
    "\n",
    "\n",
    "\n",
    "workflow:\n",
    "\n",
    "iterate through the files, and collect them in a dataframe\n",
    "\n",
    "Use [this link](https://pandas.pydata.org/docs/reference/api/pandas.concat.html#pandas.concat) for concatenating the dataframes"
   ]
  },
  {
   "cell_type": "code",
   "execution_count": 21,
   "metadata": {},
   "outputs": [],
   "source": [
    "xyzPath = './scene_objects/data/*.xyz'\n",
    "\n",
    "dataPathsList = glob.glob(xyzPath)\n"
   ]
  },
  {
   "cell_type": "code",
   "execution_count": 22,
   "metadata": {},
   "outputs": [
    {
     "data": {
      "text/html": [
       "<div>\n",
       "<style scoped>\n",
       "    .dataframe tbody tr th:only-of-type {\n",
       "        vertical-align: middle;\n",
       "    }\n",
       "\n",
       "    .dataframe tbody tr th {\n",
       "        vertical-align: top;\n",
       "    }\n",
       "\n",
       "    .dataframe thead th {\n",
       "        text-align: right;\n",
       "    }\n",
       "</style>\n",
       "<table border=\"1\" class=\"dataframe\">\n",
       "  <thead>\n",
       "    <tr style=\"text-align: right;\">\n",
       "      <th></th>\n",
       "      <th>x</th>\n",
       "      <th>y</th>\n",
       "      <th>z</th>\n",
       "      <th>groundLabel</th>\n",
       "    </tr>\n",
       "  </thead>\n",
       "  <tbody>\n",
       "    <tr>\n",
       "      <th>0</th>\n",
       "      <td>20.070000</td>\n",
       "      <td>499.959991</td>\n",
       "      <td>17.450001</td>\n",
       "      <td>building</td>\n",
       "    </tr>\n",
       "    <tr>\n",
       "      <th>1</th>\n",
       "      <td>20.370001</td>\n",
       "      <td>499.160004</td>\n",
       "      <td>17.290001</td>\n",
       "      <td>building</td>\n",
       "    </tr>\n",
       "    <tr>\n",
       "      <th>2</th>\n",
       "      <td>18.860001</td>\n",
       "      <td>499.559998</td>\n",
       "      <td>18.129999</td>\n",
       "      <td>building</td>\n",
       "    </tr>\n",
       "    <tr>\n",
       "      <th>3</th>\n",
       "      <td>18.120001</td>\n",
       "      <td>499.709991</td>\n",
       "      <td>18.540001</td>\n",
       "      <td>building</td>\n",
       "    </tr>\n",
       "    <tr>\n",
       "      <th>4</th>\n",
       "      <td>17.360001</td>\n",
       "      <td>499.950012</td>\n",
       "      <td>19.000000</td>\n",
       "      <td>building</td>\n",
       "    </tr>\n",
       "    <tr>\n",
       "      <th>...</th>\n",
       "      <td>...</td>\n",
       "      <td>...</td>\n",
       "      <td>...</td>\n",
       "      <td>...</td>\n",
       "    </tr>\n",
       "    <tr>\n",
       "      <th>1276502</th>\n",
       "      <td>88.160004</td>\n",
       "      <td>137.250000</td>\n",
       "      <td>8.870000</td>\n",
       "      <td>tree</td>\n",
       "    </tr>\n",
       "    <tr>\n",
       "      <th>1276503</th>\n",
       "      <td>89.070000</td>\n",
       "      <td>136.279999</td>\n",
       "      <td>9.180000</td>\n",
       "      <td>tree</td>\n",
       "    </tr>\n",
       "    <tr>\n",
       "      <th>1276504</th>\n",
       "      <td>89.160004</td>\n",
       "      <td>135.559998</td>\n",
       "      <td>7.660000</td>\n",
       "      <td>tree</td>\n",
       "    </tr>\n",
       "    <tr>\n",
       "      <th>1276505</th>\n",
       "      <td>88.739998</td>\n",
       "      <td>137.449997</td>\n",
       "      <td>9.050000</td>\n",
       "      <td>tree</td>\n",
       "    </tr>\n",
       "    <tr>\n",
       "      <th>1276506</th>\n",
       "      <td>88.930000</td>\n",
       "      <td>136.839996</td>\n",
       "      <td>9.110000</td>\n",
       "      <td>tree</td>\n",
       "    </tr>\n",
       "  </tbody>\n",
       "</table>\n",
       "<p>1276507 rows × 4 columns</p>\n",
       "</div>"
      ],
      "text/plain": [
       "                 x           y          z groundLabel\n",
       "0        20.070000  499.959991  17.450001    building\n",
       "1        20.370001  499.160004  17.290001    building\n",
       "2        18.860001  499.559998  18.129999    building\n",
       "3        18.120001  499.709991  18.540001    building\n",
       "4        17.360001  499.950012  19.000000    building\n",
       "...            ...         ...        ...         ...\n",
       "1276502  88.160004  137.250000   8.870000        tree\n",
       "1276503  89.070000  136.279999   9.180000        tree\n",
       "1276504  89.160004  135.559998   7.660000        tree\n",
       "1276505  88.739998  137.449997   9.050000        tree\n",
       "1276506  88.930000  136.839996   9.110000        tree\n",
       "\n",
       "[1276507 rows x 4 columns]"
      ]
     },
     "execution_count": 22,
     "metadata": {},
     "output_type": "execute_result"
    }
   ],
   "source": [
    "megaDF= pd.DataFrame(columns=['x','y','z', 'groundLabel'])\n",
    "\n",
    "def df_maker(df1, df2):\n",
    "    return pd.concat([df1, df2], sort=False, ignore_index=True)\n",
    "\n",
    "labelToGive = None\n",
    "for indx, path in enumerate(dataPathsList):\n",
    "    # if else to determine label\n",
    "    if indx>=0 and indx<100:\n",
    "        labelToGive = 'building' \n",
    "    elif indx>=100 and indx<200:\n",
    "        labelToGive = 'car' \n",
    "    elif indx>=200 and indx<300:\n",
    "        labelToGive = 'fence' \n",
    "    elif indx>=300 and indx<400:\n",
    "        labelToGive = 'pole' \n",
    "    elif indx>=400 and indx<500:\n",
    "        labelToGive = 'tree' \n",
    "        \n",
    "\n",
    "    # using pandas to read dataset and make a dataFrame\n",
    "    tempDF = pd.read_csv(path, delimiter=' ', header=None, dtype=np.float64, names=['x','y','z'])\n",
    "    tempDF.loc[:,'groundLabel'] = labelToGive\n",
    "\n",
    "    # merge with megaDF\n",
    "    megaDF = df_maker(megaDF, tempDF)\n",
    "\n",
    "megaDF.head()"
   ]
  },
  {
   "cell_type": "code",
   "execution_count": 23,
   "metadata": {},
   "outputs": [],
   "source": [
    "# save to pickle file\n",
    "megaDF.to_pickle('./scene_objects/compressedData.pkl')"
   ]
  },
  {
   "cell_type": "markdown",
   "metadata": {},
   "source": [
    "# Clustering Algorithms"
   ]
  },
  {
   "cell_type": "code",
   "execution_count": 24,
   "metadata": {},
   "outputs": [
    {
     "data": {
      "text/html": [
       "<div>\n",
       "<style scoped>\n",
       "    .dataframe tbody tr th:only-of-type {\n",
       "        vertical-align: middle;\n",
       "    }\n",
       "\n",
       "    .dataframe tbody tr th {\n",
       "        vertical-align: top;\n",
       "    }\n",
       "\n",
       "    .dataframe thead th {\n",
       "        text-align: right;\n",
       "    }\n",
       "</style>\n",
       "<table border=\"1\" class=\"dataframe\">\n",
       "  <thead>\n",
       "    <tr style=\"text-align: right;\">\n",
       "      <th></th>\n",
       "      <th>x</th>\n",
       "      <th>y</th>\n",
       "      <th>z</th>\n",
       "      <th>groundLabel</th>\n",
       "    </tr>\n",
       "  </thead>\n",
       "  <tbody>\n",
       "    <tr>\n",
       "      <th>0</th>\n",
       "      <td>20.070000</td>\n",
       "      <td>499.959991</td>\n",
       "      <td>17.450001</td>\n",
       "      <td>building</td>\n",
       "    </tr>\n",
       "    <tr>\n",
       "      <th>1</th>\n",
       "      <td>20.370001</td>\n",
       "      <td>499.160004</td>\n",
       "      <td>17.290001</td>\n",
       "      <td>building</td>\n",
       "    </tr>\n",
       "    <tr>\n",
       "      <th>2</th>\n",
       "      <td>18.860001</td>\n",
       "      <td>499.559998</td>\n",
       "      <td>18.129999</td>\n",
       "      <td>building</td>\n",
       "    </tr>\n",
       "    <tr>\n",
       "      <th>3</th>\n",
       "      <td>18.120001</td>\n",
       "      <td>499.709991</td>\n",
       "      <td>18.540001</td>\n",
       "      <td>building</td>\n",
       "    </tr>\n",
       "    <tr>\n",
       "      <th>4</th>\n",
       "      <td>17.360001</td>\n",
       "      <td>499.950012</td>\n",
       "      <td>19.000000</td>\n",
       "      <td>building</td>\n",
       "    </tr>\n",
       "  </tbody>\n",
       "</table>\n",
       "</div>"
      ],
      "text/plain": [
       "           x           y          z groundLabel\n",
       "0  20.070000  499.959991  17.450001    building\n",
       "1  20.370001  499.160004  17.290001    building\n",
       "2  18.860001  499.559998  18.129999    building\n",
       "3  18.120001  499.709991  18.540001    building\n",
       "4  17.360001  499.950012  19.000000    building"
      ]
     },
     "execution_count": 24,
     "metadata": {},
     "output_type": "execute_result"
    }
   ],
   "source": [
    "# import megaDF\n",
    "megaDF = pd.read_pickle('./scene_objects/compressedData.pkl')\n",
    "megaDF.head()"
   ]
  },
  {
   "cell_type": "markdown",
   "metadata": {},
   "source": [
    "## K-Means clustering"
   ]
  },
  {
   "cell_type": "code",
   "execution_count": 13,
   "metadata": {},
   "outputs": [],
   "source": [
    "def k_means():\n",
    "    \"\"\"\n",
    "    summary: this function is not yet ready\n",
    "    \"\"\"\n",
    "    pass"
   ]
  },
  {
   "cell_type": "code",
   "execution_count": 14,
   "metadata": {},
   "outputs": [
    {
     "name": "stdout",
     "output_type": "stream",
     "text": [
      "\u001b[0;31mSignature:\u001b[0m \u001b[0mk_means\u001b[0m\u001b[0;34m(\u001b[0m\u001b[0;34m)\u001b[0m\u001b[0;34m\u001b[0m\u001b[0;34m\u001b[0m\u001b[0m\n",
      "\u001b[0;31mDocstring:\u001b[0m summary: this function is not yet ready\n",
      "\u001b[0;31mFile:\u001b[0m      /mnt/e/TU_Delft/yr_2/q6/GEO5017/Assignments/Asg1_Clustering/<ipython-input-13-9b6376553bdf>\n",
      "\u001b[0;31mType:\u001b[0m      function\n"
     ]
    }
   ],
   "source": [
    "k_means?"
   ]
  },
  {
   "cell_type": "markdown",
   "metadata": {},
   "source": [
    "## Heirarchical clustering"
   ]
  },
  {
   "cell_type": "code",
   "execution_count": null,
   "metadata": {},
   "outputs": [],
   "source": []
  },
  {
   "cell_type": "markdown",
   "metadata": {},
   "source": [
    "## DBSCAN"
   ]
  },
  {
   "cell_type": "code",
   "execution_count": null,
   "metadata": {},
   "outputs": [],
   "source": []
  }
 ],
 "metadata": {
  "interpreter": {
   "hash": "63416c4ef3d01407afb7ae6f8b52f5ba040582e27e37581275fb0a6850709428"
  },
  "kernelspec": {
   "display_name": "Python 3.8.12 ('simNvis')",
   "language": "python",
   "name": "python3"
  },
  "language_info": {
   "codemirror_mode": {
    "name": "ipython",
    "version": 3
   },
   "file_extension": ".py",
   "mimetype": "text/x-python",
   "name": "python",
   "nbconvert_exporter": "python",
   "pygments_lexer": "ipython3",
   "version": "3.8.12"
  },
  "orig_nbformat": 4
 },
 "nbformat": 4,
 "nbformat_minor": 2
}
